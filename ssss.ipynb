{
 "cells": [
  {
   "cell_type": "code",
   "execution_count": 1,
   "id": "1ab68fe8",
   "metadata": {},
   "outputs": [
    {
     "name": "stdout",
     "output_type": "stream",
     "text": [
      "<class 'int'>\n",
      "7662\n"
     ]
    }
   ],
   "source": [
    "a=\"7657\"\n",
    "a=int(a)\n",
    "print(type(a))\n",
    "print(a+5)\n"
   ]
  },
  {
   "cell_type": "code",
   "execution_count": 7,
   "id": "979719ac",
   "metadata": {},
   "outputs": [
    {
     "name": "stdout",
     "output_type": "stream",
     "text": [
      "dict_keys(['pankha', 'Dabba', 'vastu'])\n",
      "enter the hindi word\n",
      "box\n",
      "the meaning of your word is: None\n"
     ]
    }
   ],
   "source": [
    "# dictionaryprogram to traslate hindi to english\n",
    "mydict={\n",
    "    \"pankha\":\"fan\",\n",
    "    \"Dabba\":\"Box\",\n",
    "    \"vastu\":\"item\"\n",
    "}\n",
    "print(mydict.keys())\n",
    "a=input(\"enter the hindi word\\n\")\n",
    "#print('the meaning of your word is:',mydict[a])\n",
    "print(\"the meaning of your word is:\",mydict.get(a))"
   ]
  },
  {
   "cell_type": "code",
   "execution_count": 9,
   "id": "e8a147be",
   "metadata": {},
   "outputs": [
    {
     "name": "stdout",
     "output_type": "stream",
     "text": [
      "kaka gandu :4*4\n"
     ]
    }
   ],
   "source": [
    "print(\"kaka gandu :4*4\")"
   ]
  },
  {
   "cell_type": "code",
   "execution_count": 6,
   "id": "daa54786",
   "metadata": {},
   "outputs": [
    {
     "name": "stdout",
     "output_type": "stream",
     "text": [
      "2\n"
     ]
    }
   ],
   "source": [
    "#creatimg a list using []\n",
    "a=[2,4,5,6,7,8,9]\n",
    "print(a[0])"
   ]
  },
  {
   "cell_type": "code",
   "execution_count": 7,
   "id": "2a5a2ffd",
   "metadata": {},
   "outputs": [
    {
     "name": "stdout",
     "output_type": "stream",
     "text": [
      "[98, 4, 5, 6, 7, 8, 9]\n"
     ]
    }
   ],
   "source": [
    "a=[2,4,5,6,7,8,9]\n",
    "a[0]=98\n",
    "print(a)"
   ]
  },
  {
   "cell_type": "code",
   "execution_count": 13,
   "id": "d81b577f",
   "metadata": {},
   "outputs": [
    {
     "name": "stdout",
     "output_type": "stream",
     "text": [
      "['sushant', 'reetesh', 'rohit', 'sumit']\n"
     ]
    }
   ],
   "source": [
    "#list slicing\n",
    "friends=[\"sushant\",\"reetesh\",\"rohit\",\"sumit\",\"sonu\"]\n",
    "print(friends[0:4])"
   ]
  },
  {
   "cell_type": "code",
   "execution_count": 19,
   "id": "f01cd4a2",
   "metadata": {},
   "outputs": [
    {
     "name": "stdout",
     "output_type": "stream",
     "text": [
      "[2, 4, 5, 6, 7, 8, 9]\n"
     ]
    }
   ],
   "source": [
    "l1=[2,4,5,6,7,8,9]\n",
    "l1.sort()\n",
    "print(l1)"
   ]
  },
  {
   "cell_type": "code",
   "execution_count": 27,
   "id": "e07b1eb4",
   "metadata": {},
   "outputs": [
    {
     "name": "stdout",
     "output_type": "stream",
     "text": [
      "2\n"
     ]
    }
   ],
   "source": [
    "#creating a tuple using()\n",
    "t=(2,4,5,6,7,8,9,10,)\n",
    "print(t.index(5))"
   ]
  },
  {
   "cell_type": "code",
   "execution_count": 28,
   "id": "11040a50",
   "metadata": {},
   "outputs": [
    {
     "name": "stdout",
     "output_type": "stream",
     "text": [
      "handsome hunk\n"
     ]
    }
   ],
   "source": [
    "mydict={\n",
    "    \"man\":\"handsome hunk\",\n",
    "    \"sushant\":\"a coder\"\n",
    "}\n",
    "print(mydict[\"man\"])"
   ]
  },
  {
   "cell_type": "raw",
   "id": "e5389f70",
   "metadata": {},
   "source": []
  },
  {
   "cell_type": "code",
   "execution_count": 16,
   "id": "aff35223",
   "metadata": {},
   "outputs": [
    {
     "name": "stdout",
     "output_type": "stream",
     "text": [
      "enter your namesusahnt\n",
      "enter date22-10-2000\n",
      "dear susahnt,\n",
      "greetings from abc coding house.i am happy to tell you about your selection\n",
      "    you are selected!\n",
      "    have a great day ahead!\n",
      "    thanks and regards,\n",
      "bill\n",
      "date:22-10-2000\n"
     ]
    }
   ],
   "source": [
    "letter='''dear <|name|>,\n",
    "greetings from abc coding house.i am happy to tell you about your selection\n",
    "    you are selected!\n",
    "    have a great day ahead!\n",
    "    thanks and regards,\n",
    "bill\n",
    "date:<|date|>'''\n",
    "name=input(\"enter your name\")\n",
    "date=input(\"enter date\")\n",
    "letter=letter.replace(\"<|name|>\",name)\n",
    "letter=letter.replace(\"<|date|>\",date)\n",
    "print(letter)"
   ]
  },
  {
   "cell_type": "code",
   "execution_count": 20,
   "id": "3adcc08b",
   "metadata": {},
   "outputs": [
    {
     "name": "stdout",
     "output_type": "stream",
     "text": [
      "dear sushant,this python course is nice!thanks!\n",
      "dear sushant,\n",
      "\tthis python ciurse is nice!\n",
      "\tthanks!\n"
     ]
    }
   ],
   "source": [
    "letter=\"dear sushant,this python course is nice!thanks!\"\n",
    "print(letter)\n",
    "formated_letter=\"dear sushant,\\n\\tthis python ciurse is nice!\\n\\tthanks!\"\n",
    "print(formated_letter)"
   ]
  },
  {
   "cell_type": "code",
   "execution_count": 24,
   "id": "8d799895",
   "metadata": {},
   "outputs": [
    {
     "name": "stdout",
     "output_type": "stream",
     "text": [
      "5\n"
     ]
    }
   ],
   "source": [
    "list\n",
    "a=[2,3,4,5,55,66]\n",
    "print(a[3])"
   ]
  },
  {
   "cell_type": "code",
   "execution_count": null,
   "id": "1f91810e",
   "metadata": {},
   "outputs": [],
   "source": []
  },
  {
   "cell_type": "code",
   "execution_count": 1,
   "id": "a870bb2c",
   "metadata": {},
   "outputs": [
    {
     "name": "stdout",
     "output_type": "stream",
     "text": [
      "radheshyam\n"
     ]
    }
   ],
   "source": [
    "print(\"radheshyam\")"
   ]
  },
  {
   "cell_type": "code",
   "execution_count": 3,
   "id": "7cdf683a",
   "metadata": {},
   "outputs": [
    {
     "name": "stdout",
     "output_type": "stream",
     "text": [
      "enter the no a:4\n",
      "enter the no b:5\n",
      "enter the operator+\n",
      "9\n"
     ]
    }
   ],
   "source": [
    "a=int(input(\"enter the no a:\"))\n",
    "b=int(input(\"enter the no b:\"))\n",
    "c=input(\"enter the operator\")\n",
    "if c== \"+\":\n",
    "    print(a+b)\n",
    "elif c== \"-\":\n",
    "    print(a-b)\n",
    "elif c== \"/\":\n",
    "    print(a/b)\n",
    "elif c== \"*\":\n",
    "    print(a*b)\n",
    "else:\n",
    "    print(\"invalid operator\")"
   ]
  },
  {
   "cell_type": "code",
   "execution_count": 4,
   "id": "7766c1d1",
   "metadata": {},
   "outputs": [
    {
     "name": "stdout",
     "output_type": "stream",
     "text": [
      "enter the no a66\n",
      "enter the no b77\n",
      "enter the operator-\n",
      "-11\n"
     ]
    }
   ],
   "source": [
    "a=int(input(\"enter the no a\"))\n",
    "b=int(input(\"enter the no b\"))\n",
    "c=input(\"enter the operator\")\n",
    "if c==\"+\":\n",
    "    print(a+b)\n",
    "elif c==\"-\":\n",
    "    print(a-b)\n",
    "elif c==\"*\":\n",
    "    print(a*b)\n",
    "elif c==\"/\":\n",
    "    print(a/b)\n",
    "else:\n",
    "    print(\"invalid operator\")"
   ]
  },
  {
   "cell_type": "code",
   "execution_count": 1,
   "id": "d33d6dd2",
   "metadata": {},
   "outputs": [
    {
     "name": "stdout",
     "output_type": "stream",
     "text": [
      "enter the no.:2\n",
      "2 * 1 = 2\n",
      "2 * 2 = 4\n",
      "2 * 3 = 6\n",
      "2 * 4 = 8\n",
      "2 * 5 = 10\n",
      "2 * 6 = 12\n",
      "2 * 7 = 14\n",
      "2 * 8 = 16\n",
      "2 * 9 = 18\n",
      "2 * 10 = 20\n"
     ]
    }
   ],
   "source": [
    "a= int(input(\"enter the no.:\"))\n",
    "i=1\n",
    "while i<11:\n",
    "    print(a,\"*\",i,\"=\",a*i)\n",
    "    i=i+1"
   ]
  },
  {
   "cell_type": "code",
   "execution_count": 2,
   "id": "1dbcf763",
   "metadata": {},
   "outputs": [
    {
     "name": "stdout",
     "output_type": "stream",
     "text": [
      "enter the no.:5\n",
      "5 * 1 = 5\n",
      "5 * 2 = 10\n",
      "5 * 3 = 15\n",
      "5 * 4 = 20\n",
      "5 * 5 = 25\n",
      "5 * 6 = 30\n",
      "5 * 7 = 35\n",
      "5 * 8 = 40\n",
      "5 * 9 = 45\n",
      "5 * 10 = 50\n"
     ]
    }
   ],
   "source": [
    "a=int(input(\"enter the no.:\"))\n",
    "i=1\n",
    "while i<11:\n",
    "    print(a,\"*\",i,\"=\",a*i)\n",
    "    i=i+1"
   ]
  },
  {
   "cell_type": "code",
   "execution_count": 16,
   "id": "c37f6b57",
   "metadata": {},
   "outputs": [
    {
     "name": "stdout",
     "output_type": "stream",
     "text": [
      "enter the no :2\n",
      "2 * 1 = 2\n",
      "2 * 2 = 4\n",
      "2 * 3 = 6\n",
      "2 * 4 = 8\n",
      "2 * 5 = 10\n",
      "2 * 6 = 12\n",
      "2 * 7 = 14\n",
      "2 * 8 = 16\n",
      "2 * 9 = 18\n",
      "2 * 10 = 20\n"
     ]
    }
   ],
   "source": [
    "a=int(input(\"enter the no :\"))\n",
    "for i in range(1,11):\n",
    "    print(a,\"*\",i,\"=\",a*i)\n",
    "    i=i+1"
   ]
  },
  {
   "cell_type": "code",
   "execution_count": 2,
   "id": "ee5b2119",
   "metadata": {},
   "outputs": [
    {
     "name": "stdout",
     "output_type": "stream",
     "text": [
      "enter your namesushant\n",
      "sushant\n"
     ]
    }
   ],
   "source": [
    "a=input(\"enter your name\")\n",
    "print(a)"
   ]
  },
  {
   "cell_type": "code",
   "execution_count": 3,
   "id": "28082c4f",
   "metadata": {},
   "outputs": [
    {
     "name": "stdout",
     "output_type": "stream",
     "text": [
      "enter your name: sushant\n",
      "sushant\n"
     ]
    }
   ],
   "source": [
    "a=input(\"enter your name: \")\n",
    "print(a)"
   ]
  },
  {
   "cell_type": "code",
   "execution_count": 4,
   "id": "d160600f",
   "metadata": {},
   "outputs": [
    {
     "name": "stdout",
     "output_type": "stream",
     "text": [
      "enter your number43\n",
      "<class 'str'>\n"
     ]
    }
   ],
   "source": [
    "a=input(\"enter your number\")\n",
    "b=int(a)\n",
    "print(type(a))"
   ]
  },
  {
   "cell_type": "code",
   "execution_count": 5,
   "id": "c071619f",
   "metadata": {},
   "outputs": [
    {
     "name": "stdout",
     "output_type": "stream",
     "text": [
      "the sum of a and b is. 73\n"
     ]
    }
   ],
   "source": [
    "a=30\n",
    "b=43\n",
    "print(\"the sum of a and b is.\",a+b)"
   ]
  },
  {
   "cell_type": "code",
   "execution_count": 7,
   "id": "eb0ac328",
   "metadata": {},
   "outputs": [
    {
     "name": "stdout",
     "output_type": "stream",
     "text": [
      "the reminder when a is divided by b is 24\n"
     ]
    }
   ],
   "source": [
    "a=456\n",
    "b=54\n",
    "print(\"the reminder when a is divided by b is\",a%b)"
   ]
  },
  {
   "cell_type": "code",
   "execution_count": 8,
   "id": "5a1b0c74",
   "metadata": {},
   "outputs": [
    {
     "name": "stdout",
     "output_type": "stream",
     "text": [
      "the sum of a and b is: 68\n"
     ]
    }
   ],
   "source": [
    "a=45\n",
    "b= 23\n",
    "print(\"the sum of a and b is:\",a+b)"
   ]
  },
  {
   "cell_type": "code",
   "execution_count": 12,
   "id": "1e23c45e",
   "metadata": {},
   "outputs": [
    {
     "name": "stdout",
     "output_type": "stream",
     "text": [
      "the  reminder divide into a and b is: 3\n"
     ]
    }
   ],
   "source": [
    "a=45\n",
    "b=6\n",
    "print(\"the  reminder divide into a and b is:\",a%b)"
   ]
  },
  {
   "cell_type": "code",
   "execution_count": 16,
   "id": "4a39a8ba",
   "metadata": {},
   "outputs": [
    {
     "data": {
      "text/plain": [
       "False"
      ]
     },
     "execution_count": 16,
     "metadata": {},
     "output_type": "execute_result"
    }
   ],
   "source": [
    "a=54\n",
    "b=72\n",
    "b<a"
   ]
  },
  {
   "cell_type": "code",
   "execution_count": 23,
   "id": "b0881533",
   "metadata": {},
   "outputs": [
    {
     "name": "stdout",
     "output_type": "stream",
     "text": [
      "enter the first number:65\n",
      "enter the second number:7\n",
      "the average of a and b is: 36.0\n"
     ]
    }
   ],
   "source": [
    "a=input(\"enter the first number:\")\n",
    "b=input(\"enter the second number:\")\n",
    "a=int(a)\n",
    "b=int(b)\n",
    "avg=(a+b)/2\n",
    "print(\"the average of a and b is:\",avg)\n"
   ]
  },
  {
   "cell_type": "code",
   "execution_count": 24,
   "id": "47909101",
   "metadata": {},
   "outputs": [
    {
     "name": "stdout",
     "output_type": "stream",
     "text": [
      "enter the first number:4\n",
      "enter the second number:5\n",
      "the average of a and b is: 4.5\n"
     ]
    }
   ],
   "source": [
    "a=input(\"enter the first number:\")\n",
    "b=input(\"enter the second number:\")\n",
    "a=int(a)\n",
    "b=int(b)\n",
    "avg=(a+b)/2\n",
    "print(\"the average of a and b is:\",avg)"
   ]
  },
  {
   "cell_type": "raw",
   "id": "e176bba7",
   "metadata": {},
   "source": []
  },
  {
   "cell_type": "code",
   "execution_count": 28,
   "id": "fc41cf34",
   "metadata": {},
   "outputs": [
    {
     "name": "stdout",
     "output_type": "stream",
     "text": [
      "goodmorning,:sushant\n"
     ]
    }
   ],
   "source": [
    "greeting=\"goodmorning,:\"\n",
    "name=\"sushant\"\n",
    "# print(type(name))\n",
    "c=greeting+name\n",
    "print(c)"
   ]
  },
  {
   "cell_type": "code",
   "execution_count": 30,
   "id": "b2e5fb9b",
   "metadata": {},
   "outputs": [
    {
     "name": "stdout",
     "output_type": "stream",
     "text": [
      "s\n"
     ]
    }
   ],
   "source": [
    "name=\"sushant\"\n",
    "print(name[2])"
   ]
  },
  {
   "cell_type": "code",
   "execution_count": 37,
   "id": "838107bb",
   "metadata": {},
   "outputs": [
    {
     "name": "stdout",
     "output_type": "stream",
     "text": [
      "sushant is a good boy\n"
     ]
    }
   ],
   "source": [
    "mydict= {\n",
    "    \"fast\":\"sushant is a good boy\",\n",
    "    \"sushant\":\"a coder\"\n",
    "}\n",
    "print(mydict['fast'])"
   ]
  },
  {
   "cell_type": "code",
   "execution_count": 40,
   "id": "84065272",
   "metadata": {},
   "outputs": [
    {
     "name": "stdout",
     "output_type": "stream",
     "text": [
      "dict_keys(['sushant', 'rahul'])\n",
      "dict_values(['much handsome', '100 acer ki farm h mere mama ki'])\n"
     ]
    }
   ],
   "source": [
    "mydict={\n",
    "    \"sushant\":\"much handsome\",\n",
    "    \"rahul\":\"100 acer ki farm h mere mama ki\"\n",
    "}\n",
    "print(mydict.keys())\n",
    "print(mydict.values())"
   ]
  },
  {
   "cell_type": "code",
   "execution_count": 12,
   "id": "02e5c2b9",
   "metadata": {},
   "outputs": [
    {
     "name": "stdout",
     "output_type": "stream",
     "text": [
      "dict_keys(['sushant', 'reetesh'])\n",
      "dict_values(['much handsome', 'polite man'])\n"
     ]
    }
   ],
   "source": [
    "mydict={\n",
    "    \"sushant\":\"much handsome\",\n",
    "    \"reetesh\":\"polite man\"\n",
    "}\n",
    "print(mydict.keys())\n",
    "print(mydict.values())"
   ]
  },
  {
   "cell_type": "code",
   "execution_count": 9,
   "id": "42aa8e08",
   "metadata": {},
   "outputs": [
    {
     "name": "stdout",
     "output_type": "stream",
     "text": [
      "sushant is a good boy\n"
     ]
    }
   ],
   "source": [
    "mydict={\n",
    "    \"fast\":\"sushant is a good boy\",\n",
    "    \"sushant\":\"a coder\"\n",
    "}\n",
    "print(mydict['fast'])"
   ]
  },
  {
   "cell_type": "code",
   "execution_count": null,
   "id": "3b0bb66d",
   "metadata": {},
   "outputs": [
    {
     "name": "stdout",
     "output_type": "stream",
     "text": [
      "\t\t\t\t Sushant Clothing Store\n",
      "\t\t\t\t Since-2023\n",
      "\t\t\t\t www.cloth.com\n",
      "\n",
      "\n",
      "\t\t\t\t\tCATEGORIES\n",
      "\n",
      "\n",
      " Gents Cloths\n",
      "\n",
      "\n",
      " Ladies Cloths\n",
      "\n",
      "\n",
      " Kids Cloths\n",
      "\n",
      "\n",
      " kids Cloths\n"
     ]
    }
   ],
   "source": [
    "class SushantClothStore:\n",
    "    def cloths(rp):\n",
    "        print(\"\\t\\t\\t\\t Sushant Clothing Store\")\n",
    "        print(\"\\t\\t\\t\\t Since-2023\")\n",
    "        print(\"\\t\\t\\t\\t www.cloth.com\")\n",
    "        print(\"\\n\\n\\t\\t\\t\\t\\tCATEGORIES\")\n",
    "        \n",
    "    def categories(rp):\n",
    "        x=[\"Gents Cloths\",\"Ladies Cloths\",\"Kids Cloths\",\"kids Cloths\"]\n",
    "        for k in x:\n",
    "            print(\"\\n\\n\",k)\n",
    "            \n",
    "    def gents(rp):\n",
    "        x=[\"Shirts\",\"T-Shirts\",\"Full Slive\",\"Jeans\",\"Formal Pants\",\"Formal Shirts\",\"Shorts\",\"Lowers\"]\n",
    "        y=[2000,1600,450,3000,800,700,350,280]\n",
    "        gents_={\"Gents Clothes\":x,\"Price\":y}\n",
    "        import pandas as pd\n",
    "        df=pd.DataFrame(gents_)\n",
    "        print(\"\\n\\n Gents Cloths \\n\\n\")\n",
    "        print(df)\n",
    "        d=[]\n",
    "        while x:\n",
    "            x=True\n",
    "            b=int(input(\"Enter the value position : \"))\n",
    "            c=int(input(\"Enter the Quantity:\"))\n",
    "            z=gents_[\"Price\"][b]\n",
    "            y=z*c\n",
    "            d.append(y)\n",
    "            x=input(\"you want to reorder(yes/no):\")\n",
    "            if(x==\"no\"):\n",
    "                print('Thank you')\n",
    "                break\n",
    "        t=sum(d)\n",
    "        m=(sum(d)*0.05)\n",
    "        k=t+m\n",
    "        print(\"servicetax = 5%\")\n",
    "        print(\"Total Amount:\",t,\"Rupees\")\n",
    "        print(\"Total Amount Including Service Tax:\",k,\"Rupees\")\n",
    "        \n",
    "        \n",
    "    def ladies(rp):\n",
    "        x=[\"Suits\",\"Saree\",\"Tops\",\"Jeans\",\"T-Shirts\",\"Shorts\",\"Lahnga\"]\n",
    "        y=[2000,1600,450,3000,800,700,350,280]\n",
    "        ladies_={\"Ladies Clothes\":x,\"Price\":y}\n",
    "        import pandas as pd\n",
    "        df=pd.DataFrame(ladies_)\n",
    "        print(\"\\n\\n Ladies Cloths \\n\\n\")\n",
    "        print(df)\n",
    "        d=[]\n",
    "        while x:\n",
    "            x=True\n",
    "            b=int(input(\"Enter the value position : \"))\n",
    "            c=int(input(\"Enter the Quantity:\"))\n",
    "            z=ladies_[\"Price\"][b]\n",
    "            y=z*c\n",
    "            d.append(y)\n",
    "            x=input(\"you want to reorder(yes/no):\")\n",
    "            if(x==\"no\"):\n",
    "                print('Thank you')\n",
    "                break\n",
    "        t=sum(d)\n",
    "        m=(sum(d)*0.05)\n",
    "        k=t+m\n",
    "        print(\"servicetax = 5%\")\n",
    "        print(\"Total Amount:\",t,\"Rupees\")\n",
    "        print(\"Total Amount Including Service Tax:\",k,\"Rupees\")\n",
    "        \n",
    "    \n",
    "        \n",
    "        \n",
    "    def kids(rp):\n",
    "        x=[\"T-Shirts\",\"Jeans\",\"Shirt\",\"Shorts\",\"Caps\"]\n",
    "        y=[2000,1600,450,3000,800,700,350,280]\n",
    "        kids_={\"Kids Clothes\":x,\"Price\":y}\n",
    "        import pandas as pd\n",
    "        df=pd.DataFrame(kids_)\n",
    "        print(\"\\n\\n Kids Cloths \\n\\n\")\n",
    "        print(df)\n",
    "        d=[]\n",
    "        while x:\n",
    "            x=True\n",
    "            b=int(input(\"Enter the value position : \"))\n",
    "            c=int(input(\"Enter the Quantity:\"))\n",
    "            z=kids_[\"Price\"][b]\n",
    "            y=z*c\n",
    "            d.append(y)\n",
    "            x=input(\"you want to reorder(yes/no):\")\n",
    "            if(x==\"no\"):\n",
    "                print('Thank you')\n",
    "                break\n",
    "        t=sum(d)\n",
    "        m=(sum(d)*0.05)\n",
    "        k=t+m\n",
    "        print(\"servicetax = 5%\")\n",
    "        print(\"Total Amount:\",t,\"Rupees\")\n",
    "        print(\"Total Amount Including Service Tax:\",k,\"Rupees\")\n",
    "obj=SushantClothStore()\n",
    "obj.cloths()\n",
    "obj.categories()\n",
    "x=input(\"Enter the Category: \")\n",
    "if x==\"gents\":\n",
    "    print(obj.gents())\n",
    "elif x==\"ladies\":\n",
    "    print(obj.ladies())\n",
    "elif x==\"kids\":\n",
    "    print(obj.kids())\n",
    "else:\n",
    "    print(\"wrong option: \\nplease again choose the right option:\")\n",
    "\n"
   ]
  },
  {
   "cell_type": "code",
   "execution_count": 1,
   "id": "ae63ff49",
   "metadata": {},
   "outputs": [
    {
     "name": "stdout",
     "output_type": "stream",
     "text": [
      "enter the candidate name:ritesh\n",
      "enter the course name:fire extention\n",
      "enter course code:4566\n",
      "enter registration no:1234\n",
      "enter enrollment no:100001\n",
      "enter date:22/10/2000\n",
      "enter the marks obtained in fire extinction:50\n",
      "enter the marks obtained in fire protection:70\n",
      "enter the marks obtained in fire technology:69\n",
      "enter the marks obtained in construction safety:69\n",
      "enter the marks obtained in practical 1:80\n",
      "enter the marks obtained in practical 2:30\n",
      "...............................\n",
      "\n",
      "\t\t\t ALL INDIA INSTITUTE OF FIRE TECHNOLOGY AND SAFETY\n",
      "\n",
      " Associated with technical and paramedical education council\n",
      "\t\t An autonomous institution recognized by government of india\n",
      "\n",
      "\n",
      " \t\t\t\t ANNUAL STATEMENT OF MARKS\n",
      "..................................................\n",
      "\n",
      " \t name of the candiate \t\t\t\t course name\n",
      "\t ritesh \t\t\t\t\t fire extention\n",
      ".................................\n",
      "\n",
      " \t course code \t reg.no. \t Enrollment no.\n",
      "\t 4566 \t 1234 \t 100001\n",
      "...........................\n",
      "subject code \t subject name \t\t max.marks \t marks obtained\n",
      "ADIFSOO17 \t fire extension \t 100 \t\t 50\n",
      "ADIFS0018 \t fire projection \t 100 \t\t 70\n",
      "ADIFSOO19 \t fire tecnology \t \t\t 69\n",
      "ADIFS0020 \t construction safety \t 100 \t\t 69\n",
      "ADIFS0024 \t practical 1 \t\t 100 \t\t 80\n",
      "ADIFS0025 \t practical 2 \t\t 30\n",
      "................................\n",
      "grand total: 368\n",
      "................................\n",
      "month and year of examination \t no.of subject offered \t percentage\n",
      "may 2020 \t\t\t\t t4+p2=6 \t\t 33805.0 %\n",
      "....................................\n",
      "not a valid marks\n",
      "...................................\n",
      "date : 22/10/2000 \t\t\t\t\t deputy controller of examination\n",
      "\t\t\t subject marked*indicates exemption\n"
     ]
    }
   ],
   "source": [
    "mtab=(\"\\t\\t\\t\")\n",
    "mtab2=(\"\\t\\t\")\n",
    "mtab3=(\"\\t\\t\\t\\t\")\n",
    "mtab4=(\"\\t\")\n",
    "mtab5=(\"\\t\\t\\t\\t\\t\")\n",
    "name=input(\"enter the candidate name:\")\n",
    "cname=input(\"enter the course name:\")\n",
    "ccode=input(\"enter course code:\")\n",
    "regno=input(\"enter registration no:\")\n",
    "enrollno=int(input(\"enter enrollment no:\"))\n",
    "date=input(\"enter date:\")\n",
    "marks1=eval(input(\"enter the marks obtained in fire extinction:\"))\n",
    "marks2=eval(input(\"enter the marks obtained in fire protection:\"))\n",
    "marks3=eval(input(\"enter the marks obtained in fire technology:\"))\n",
    "marks4=eval(input(\"enter the marks obtained in construction safety:\"))\n",
    "marks5=eval(input(\"enter the marks obtained in practical 1:\"))\n",
    "marks6=eval(input(\"enter the marks obtained in practical 2:\"))\n",
    "marks=(marks1+marks2+marks3+marks4+marks5+marks6)\n",
    "percentage=(marks1+marks2+marks3+marks4+marks5+marks6/600)*100\n",
    "print(\"...............................\\n\")\n",
    "print(mtab,\"ALL INDIA INSTITUTE OF FIRE TECHNOLOGY AND SAFETY\")\n",
    "print(\"\\n\",\"Associated with technical and paramedical education council\")\n",
    "print(mtab2,\"An autonomous institution recognized by government of india\")\n",
    "print(\"\\n\\n\",mtab3,\"ANNUAL STATEMENT OF MARKS\")\n",
    "print(\"..................................................\")\n",
    "print(\"\\n\",mtab4,\"name of the candiate\",mtab3,\"course name\")\n",
    "print(mtab4,name,mtab5,cname)\n",
    "print(\".................................\")\n",
    "print(\"\\n\",mtab4,\"course code\",mtab4,\"reg.no.\",mtab4,\"Enrollment no.\")\n",
    "print(mtab4,ccode,mtab4,regno,mtab4,enrollno)\n",
    "print(\"...........................\")\n",
    "print(\"subject code\",mtab4,\"subject name\",mtab2,\"max.marks\",mtab4,\"marks obtained\")\n",
    "print(\"ADIFSOO17\",mtab4,\"fire extension\",mtab4,\"100\",mtab2,marks1)\n",
    "print(\"ADIFS0018\",mtab4,\"fire projection\",mtab4,\"100\",mtab2,marks2)\n",
    "print(\"ADIFSOO19\",mtab4,\"fire tecnology\",mtab4,mtab2,marks3)\n",
    "print(\"ADIFS0020\",mtab4,\"construction safety\",mtab4,\"100\",mtab2,marks4)\n",
    "print(\"ADIFS0024\",mtab4,\"practical 1\",mtab2,\"100\",mtab2,marks5)\n",
    "print(\"ADIFS0025\",mtab4,\"practical 2\",mtab2,marks6)\n",
    "print(\"................................\")\n",
    "print(\"grand total:\",marks)\n",
    "print(\"................................\")\n",
    "print(\"month and year of examination\",mtab4,\"no.of subject offered\",mtab4,\"percentage\")\n",
    "print(\"may 2020\",mtab3,\"t4+p2=6\",mtab2,percentage,\"%\")\n",
    "print(\"....................................\")\n",
    "if percentage>=90 and percentage<=100:\n",
    "    print(\"grade:a+\",\"pass\")\n",
    "elif percentage>=80 and percentage<=90:\n",
    "          print(\"grade:a\",\"pass\")\n",
    "elif percentage>=70 and percentage<80:\n",
    "                print(\"grade:b+\",\"pass\")\n",
    "elif percentage>=60 and percentage<70:\n",
    "                      print(\"grade:b\",\"pass\")\n",
    "elif percentage>=40 and percentage<60:\n",
    "                            print(\"grade:c\",\"fail\")\n",
    "elif percentage>=0 and percentage<=40:\n",
    "                                  print(\"grade :d\",\"fail and need improvement\")\n",
    "else:\n",
    "    \n",
    "     print(\"not a valid marks\")\n",
    "print(\"...................................\")\n",
    "print(\"date :\",date,mtab5,\"deputy controller of examination\")\n",
    "print(mtab,\"subject marked*indicates exemption\")\n"
   ]
  },
  {
   "cell_type": "code",
   "execution_count": 11,
   "id": "1029e440",
   "metadata": {},
   "outputs": [
    {
     "name": "stdout",
     "output_type": "stream",
     "text": [
      "enter bill month/date:January\n",
      "enter consumer name:Sushant\n",
      "enter consumer address:Jaipur\n",
      "ENTER CURRENT READING DATE:27-07-2023\n",
      "ENTER PAST READING DATE:27-06-2023\n",
      "ENTER CURRENT READING:200\n",
      "ENTER PAST READING:100\n",
      "......................\n",
      "\n",
      "\t\t\t\t\t jaipur vidyut vitran nigam ltd.\n",
      "\n",
      "\t\t\t rigestered office vidyut bhawan,janpath jaipur\n",
      "\t\t\t pan.no,:AAABCJ6373K,GSTIN,:-08AABCJ6373K127,HSN CODE,:-2716\n",
      "CIN NO.U40109RJ2000SGCO16486*BILL OF SUPPLY*\n",
      "..............................................\n",
      "bill month/date: January\n",
      "subdivision name:aen_f-4_pratap nagar\n",
      "account no17380051\n",
      "consumer no: Sushant\n",
      "consumer address: Jaipur\n",
      "bill no./meater condition10150/regular\n",
      "type/terrific code domestic/1000t\n",
      "sanctioned load:2.00/2.0kw\n",
      "precious/meter safety amount2316/0\n",
      "current reading date: 27-07-2023\n",
      "past reading date: 27-06-2023\n",
      "current reading(kwh): 200\n",
      "past reading(kwh): 100\n",
      "total consumption(unit) 100\n",
      "fuel surcharge:69.12\n",
      "urban cess:43.35\n",
      "....................................\n",
      "\n",
      "total amount till date: rs. 674.97 \n",
      " thank you \n",
      " govt. of india\n"
     ]
    }
   ],
   "source": [
    "mtab=(\"\\t\\t\\t\\t\\t\")\n",
    "mtab2=(\"\\t\\t\\t\")\n",
    "billm=input(\"enter bill month/date:\")\n",
    "cn=input(\"enter consumer name:\")\n",
    "ca=input(\"enter consumer address:\")\n",
    "crd=input(\"ENTER CURRENT READING DATE:\")\n",
    "prd=input(\"ENTER PAST READING DATE:\")\n",
    "CR=eval(input(\"ENTER CURRENT READING:\"))\n",
    "pr=eval(input(\"ENTER PAST READING:\"))\n",
    "tc=CR-pr\n",
    "fs=69.12\n",
    "uc=43.35\n",
    "print(\"......................\\n\")\n",
    "print(mtab,\"jaipur vidyut vitran nigam ltd.\\n\")\n",
    "print(mtab2,\"rigestered office vidyut bhawan,janpath jaipur\")\n",
    "print(mtab2,\"pan.no,:AAABCJ6373K,GSTIN,:-08AABCJ6373K127,HSN CODE,:-2716\")\n",
    "print(\"CIN NO.U40109RJ2000SGCO16486*BILL OF SUPPLY*\")\n",
    "print(\"..............................................\")\n",
    "print(\"bill month/date:\",billm)\n",
    "print(\"subdivision name:aen_f-4_pratap nagar\")\n",
    "print(\"account no17380051\")\n",
    "print(\"consumer no:\",cn)\n",
    "print(\"consumer address:\",ca)\n",
    "print(\"bill no./meater condition10150/regular\")\n",
    "print(\"type/terrific code domestic/1000t\")\n",
    "print(\"sanctioned load:2.00/2.0kw\")\n",
    "print(\"precious/meter safety amount2316/0\")\n",
    "print(\"current reading date:\",crd)\n",
    "print(\"past reading date:\",prd)\n",
    "print(\"current reading(kwh):\",CR)\n",
    "print(\"past reading(kwh):\",pr)\n",
    "print(\"total consumption(unit)\",tc)\n",
    "print(\"fuel surcharge:69.12\")\n",
    "print(\"urban cess:43.35\")\n",
    "print(\"....................................\\n\")\n",
    "if tc>=0 and tc<=50:\n",
    "    total_amount=((tc*4.75)+fs+uc)\n",
    "    print(\"total amount till date:\",\"rs.\",total_amount,\"\\n\",\"thank you\",\"\\n\",\"govt.pf india\")\n",
    "elif tc>50 and tc<=150:\n",
    "    total_amount=(237.5+((tc-50)*6.50)+fs+uc)\n",
    "    print(\"total amount till date:\",\"rs.\",total_amount,\"\\n\",\"thank you\",\"\\n\",\"govt. of india\")\n",
    "elif tc>150 and tc<=300:\n",
    "    total_amount(237.5+650+((tc-150)*7.35)+fs+uc)\n",
    "    print(\"total amount till date:\",\"rs.\",total_amount,\"\\n\",\"thank you\",\"\\n\",\"govt. of india\")\n",
    "elif tc>300 and tc<=500:\n",
    "    total_amount=(237.5+650+1102.5+((tc-300)*7.65)+fs+uc)\n",
    "    print(\"total amount till date:\",\"rs.\",total_amount,\"\\n\",\"thank you\",\"\\n\",\"govt. of india\")\n",
    "elif tc>500:\n",
    "    total_amount=(237.5+650+1102.5+1530+((tc-500)*7.95)+fs+uc)\n",
    "    print(\"total amount till date:\",\"rs.\",total_amount,\"\\n\",\"thank you\",\"\\n\",\"govt. of india\")\n",
    "else:\n",
    "      print(\"mater is not working due to:xyz\",\"contact to electricity board\",\"total amount-00(penelty including to next bill)\",\"n\",\"thank you\",\"\\n\",\"govt. of india\")\n",
    "\n"
   ]
  },
  {
   "cell_type": "code",
   "execution_count": 16,
   "id": "5647758a",
   "metadata": {},
   "outputs": [
    {
     "name": "stdout",
     "output_type": "stream",
     "text": [
      "('good night:', 'sushant raman:')\n"
     ]
    }
   ],
   "source": [
    "greetings=\"good night:\",\n",
    "name=\"sushant raman:\",\n",
    "c=greetings+name\n",
    "print(c)"
   ]
  },
  {
   "cell_type": "code",
   "execution_count": 3,
   "id": "e59f6991",
   "metadata": {},
   "outputs": [
    {
     "name": "stdout",
     "output_type": "stream",
     "text": [
      "enter the no a:8\n",
      "8 * 1 = 8\n",
      "8 * 2 = 8\n",
      "8 * 3 = 8\n",
      "8 * 4 = 8\n",
      "8 * 5 = 8\n",
      "8 * 6 = 8\n",
      "8 * 7 = 8\n",
      "8 * 8 = 8\n",
      "8 * 9 = 8\n",
      "8 * 10 = 8\n"
     ]
    }
   ],
   "source": [
    "a=int(input(\"enter the no a:\"))\n",
    "i=1\n",
    "while i<11:\n",
    "    print(a,\"*\",i,\"=\",a*1)\n",
    "    i=i+1"
   ]
  },
  {
   "cell_type": "code",
   "execution_count": 22,
   "id": "b3c6b855",
   "metadata": {},
   "outputs": [
    {
     "name": "stdout",
     "output_type": "stream",
     "text": [
      "enter the no a:5\n",
      "5 * 1 = 5\n",
      "5 * 2 = 10\n",
      "5 * 3 = 15\n",
      "5 * 4 = 20\n",
      "5 * 5 = 25\n",
      "5 * 6 = 30\n",
      "5 * 7 = 35\n",
      "5 * 8 = 40\n",
      "5 * 9 = 45\n",
      "5 * 10 = 50\n"
     ]
    }
   ],
   "source": [
    "a=int(input(\"enter the no a:\"))\n",
    "i=1\n",
    "for i in range (1,11):\n",
    "    print(a,\"*\",i,\"=\",a*i)\n",
    "    i=i+1"
   ]
  },
  {
   "cell_type": "code",
   "execution_count": null,
   "id": "78152300",
   "metadata": {},
   "outputs": [],
   "source": []
  }
 ],
 "metadata": {
  "kernelspec": {
   "display_name": "Python 3 (ipykernel)",
   "language": "python",
   "name": "python3"
  },
  "language_info": {
   "codemirror_mode": {
    "name": "ipython",
    "version": 3
   },
   "file_extension": ".py",
   "mimetype": "text/x-python",
   "name": "python",
   "nbconvert_exporter": "python",
   "pygments_lexer": "ipython3",
   "version": "3.9.12"
  }
 },
 "nbformat": 4,
 "nbformat_minor": 5
}
